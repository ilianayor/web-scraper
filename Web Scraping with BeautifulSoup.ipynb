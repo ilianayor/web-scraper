{
 "cells": [
  {
   "cell_type": "markdown",
   "id": "b8095fb5-186b-467e-96f5-884a3d23be0c",
   "metadata": {},
   "source": [
    "# List of largest companies in Europe by revenue"
   ]
  },
  {
   "cell_type": "code",
   "execution_count": 58,
   "id": "d870f864-b8fe-4fe6-a7eb-2a4ac295bdd4",
   "metadata": {},
   "outputs": [],
   "source": [
    "import requests\n",
    "from bs4 import BeautifulSoup\n",
    "import pandas as pd"
   ]
  },
  {
   "cell_type": "code",
   "execution_count": 72,
   "id": "247cb560-1a23-4e6a-9651-cefae2858e65",
   "metadata": {},
   "outputs": [],
   "source": [
    "url = 'https://en.wikipedia.org/wiki/List_of_largest_companies_in_Europe_by_revenue'\n",
    "page = requests.get(url)\n",
    "soup = BeautifulSoup(page.text, 'html')"
   ]
  },
  {
   "cell_type": "code",
   "execution_count": 91,
   "id": "aa038592-a32a-4c9d-a485-1042d42affb4",
   "metadata": {},
   "outputs": [],
   "source": [
    "table = soup.find_all('table')[1]"
   ]
  },
  {
   "cell_type": "code",
   "execution_count": 90,
   "id": "d576f4cd-45e0-4ea4-b0a2-73fe6df12273",
   "metadata": {},
   "outputs": [
    {
     "name": "stdout",
     "output_type": "stream",
     "text": [
      "['Rank', 'Company', 'Industry', 'Revenue(US$ billions)', 'Headquarters']\n"
     ]
    }
   ],
   "source": [
    "titles = table.find_all('th')\n",
    "table_titles = [title.text.strip() for title in titles]\n",
    "print(table_titles)"
   ]
  },
  {
   "cell_type": "code",
   "execution_count": 82,
   "id": "7ed7ab0a-4e76-496e-bfe5-0d12fe079643",
   "metadata": {},
   "outputs": [],
   "source": [
    "df = pd.DataFrame(columns = table_titles)"
   ]
  },
  {
   "cell_type": "code",
   "execution_count": 84,
   "id": "6c4bba90-816e-4765-804b-7608c5990603",
   "metadata": {},
   "outputs": [],
   "source": [
    "column_data = table.find_all('tr')\n",
    "for row in column_data[1:]:\n",
    "    row_data = row.find_all('td')\n",
    "    individual_row_data = [data.text.strip() for data in row_data]\n",
    "    \n",
    "    length = len(df)\n",
    "    df.loc[length] = individual_row_data"
   ]
  },
  {
   "cell_type": "code",
   "execution_count": 92,
   "id": "f388726d-1b95-41e2-ad19-bad2aa0aace9",
   "metadata": {},
   "outputs": [
    {
     "data": {
      "text/html": [
       "<div>\n",
       "<style scoped>\n",
       "    .dataframe tbody tr th:only-of-type {\n",
       "        vertical-align: middle;\n",
       "    }\n",
       "\n",
       "    .dataframe tbody tr th {\n",
       "        vertical-align: top;\n",
       "    }\n",
       "\n",
       "    .dataframe thead th {\n",
       "        text-align: right;\n",
       "    }\n",
       "</style>\n",
       "<table border=\"1\" class=\"dataframe\">\n",
       "  <thead>\n",
       "    <tr style=\"text-align: right;\">\n",
       "      <th></th>\n",
       "      <th>Rank</th>\n",
       "      <th>Company</th>\n",
       "      <th>Industry</th>\n",
       "      <th>Revenue(US$ billions)</th>\n",
       "      <th>Headquarters</th>\n",
       "    </tr>\n",
       "  </thead>\n",
       "  <tbody>\n",
       "    <tr>\n",
       "      <th>0</th>\n",
       "      <td>1</td>\n",
       "      <td>Shell</td>\n",
       "      <td>Oil and gas</td>\n",
       "      <td>386.201</td>\n",
       "      <td>United Kingdom</td>\n",
       "    </tr>\n",
       "    <tr>\n",
       "      <th>1</th>\n",
       "      <td>2</td>\n",
       "      <td>Volkswagen</td>\n",
       "      <td>Automotive</td>\n",
       "      <td>293.685</td>\n",
       "      <td>Germany</td>\n",
       "    </tr>\n",
       "    <tr>\n",
       "      <th>2</th>\n",
       "      <td>3</td>\n",
       "      <td>Uniper</td>\n",
       "      <td>Electric utility</td>\n",
       "      <td>288.309</td>\n",
       "      <td>Germany</td>\n",
       "    </tr>\n",
       "    <tr>\n",
       "      <th>3</th>\n",
       "      <td>4</td>\n",
       "      <td>TotalEnergies</td>\n",
       "      <td>Oil and gas</td>\n",
       "      <td>263.310</td>\n",
       "      <td>France</td>\n",
       "    </tr>\n",
       "    <tr>\n",
       "      <th>4</th>\n",
       "      <td>5</td>\n",
       "      <td>Glencore</td>\n",
       "      <td>Conglomerate</td>\n",
       "      <td>255.984</td>\n",
       "      <td>Switzerland</td>\n",
       "    </tr>\n",
       "  </tbody>\n",
       "</table>\n",
       "</div>"
      ],
      "text/plain": [
       "  Rank        Company          Industry Revenue(US$ billions)    Headquarters\n",
       "0    1          Shell       Oil and gas               386.201  United Kingdom\n",
       "1    2     Volkswagen        Automotive               293.685         Germany\n",
       "2    3         Uniper  Electric utility               288.309         Germany\n",
       "3    4  TotalEnergies       Oil and gas               263.310          France\n",
       "4    5       Glencore      Conglomerate               255.984     Switzerland"
      ]
     },
     "execution_count": 92,
     "metadata": {},
     "output_type": "execute_result"
    }
   ],
   "source": [
    "df.head(10)"
   ]
  },
  {
   "cell_type": "code",
   "execution_count": 86,
   "id": "33422965-b6d8-4888-aa02-e0dccecb103e",
   "metadata": {},
   "outputs": [],
   "source": [
    "df.to_csv(r'/Users/ilianayordanova/Desktop/Largest_Companies_Europe.csv', index = False)"
   ]
  }
 ],
 "metadata": {
  "kernelspec": {
   "display_name": "Python 3 (ipykernel)",
   "language": "python",
   "name": "python3"
  },
  "language_info": {
   "codemirror_mode": {
    "name": "ipython",
    "version": 3
   },
   "file_extension": ".py",
   "mimetype": "text/x-python",
   "name": "python",
   "nbconvert_exporter": "python",
   "pygments_lexer": "ipython3",
   "version": "3.11.7"
  }
 },
 "nbformat": 4,
 "nbformat_minor": 5
}
